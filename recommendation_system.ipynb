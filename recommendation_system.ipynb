{
  "nbformat": 4,
  "nbformat_minor": 0,
  "metadata": {
    "kernelspec": {
      "name": "python3",
      "display_name": "Python 3"
    },
    "language_info": {
      "codemirror_mode": {
        "name": "ipython",
        "version": 3
      },
      "file_extension": ".py",
      "mimetype": "text/x-python",
      "name": "python",
      "nbconvert_exporter": "python",
      "pygments_lexer": "ipython3",
      "version": "3.7.1"
    },
    "colab": {
      "name": "recommendation_system.ipynb",
      "provenance": [],
      "include_colab_link": true
    },
    "accelerator": "GPU"
  },
  "cells": [
    {
      "cell_type": "markdown",
      "metadata": {
        "id": "view-in-github",
        "colab_type": "text"
      },
      "source": [
        "<a href=\"https://colab.research.google.com/github/vishal-pandey/recommendation-system/blob/master/recommendation_system.ipynb\" target=\"_parent\"><img src=\"https://colab.research.google.com/assets/colab-badge.svg\" alt=\"Open In Colab\"/></a>"
      ]
    },
    {
      "cell_type": "code",
      "metadata": {
        "id": "E19Cj4x86dNE",
        "colab_type": "code",
        "colab": {}
      },
      "source": [
        "import numpy as np\n",
        "import matplotlib.pyplot as plt\n",
        "import pandas as pd\n"
      ],
      "execution_count": 0,
      "outputs": []
    },
    {
      "cell_type": "code",
      "metadata": {
        "id": "TiHM9HlX6dNP",
        "colab_type": "code",
        "colab": {}
      },
      "source": [
        "df = pd.read_csv(\"https://github.com/rani700/datasets/blob/master/INvideos.csv?raw=true\")"
      ],
      "execution_count": 0,
      "outputs": []
    },
    {
      "cell_type": "code",
      "metadata": {
        "id": "kLeW4lzE6dNU",
        "colab_type": "code",
        "outputId": "869159d1-9dbd-4d31-80fb-ae00dc1da3a6",
        "colab": {
          "base_uri": "https://localhost:8080/",
          "height": 602
        }
      },
      "source": [
        "df.head()"
      ],
      "execution_count": 0,
      "outputs": [
        {
          "output_type": "execute_result",
          "data": {
            "text/html": [
              "<div>\n",
              "<style scoped>\n",
              "    .dataframe tbody tr th:only-of-type {\n",
              "        vertical-align: middle;\n",
              "    }\n",
              "\n",
              "    .dataframe tbody tr th {\n",
              "        vertical-align: top;\n",
              "    }\n",
              "\n",
              "    .dataframe thead th {\n",
              "        text-align: right;\n",
              "    }\n",
              "</style>\n",
              "<table border=\"1\" class=\"dataframe\">\n",
              "  <thead>\n",
              "    <tr style=\"text-align: right;\">\n",
              "      <th></th>\n",
              "      <th>video_id</th>\n",
              "      <th>trending_date</th>\n",
              "      <th>title</th>\n",
              "      <th>channel_title</th>\n",
              "      <th>category_id</th>\n",
              "      <th>publish_time</th>\n",
              "      <th>tags</th>\n",
              "      <th>views</th>\n",
              "      <th>likes</th>\n",
              "      <th>dislikes</th>\n",
              "      <th>comment_count</th>\n",
              "      <th>thumbnail_link</th>\n",
              "      <th>comments_disabled</th>\n",
              "      <th>ratings_disabled</th>\n",
              "      <th>video_error_or_removed</th>\n",
              "      <th>description</th>\n",
              "    </tr>\n",
              "  </thead>\n",
              "  <tbody>\n",
              "    <tr>\n",
              "      <th>0</th>\n",
              "      <td>kzwfHumJyYc</td>\n",
              "      <td>17.14.11</td>\n",
              "      <td>Sharry Mann: Cute Munda ( Song Teaser) | Parmi...</td>\n",
              "      <td>Lokdhun Punjabi</td>\n",
              "      <td>1</td>\n",
              "      <td>2017-11-12T12:20:39.000Z</td>\n",
              "      <td>sharry mann|\"sharry mann new song\"|\"sharry man...</td>\n",
              "      <td>1096327</td>\n",
              "      <td>33966</td>\n",
              "      <td>798</td>\n",
              "      <td>882</td>\n",
              "      <td>https://i.ytimg.com/vi/kzwfHumJyYc/default.jpg</td>\n",
              "      <td>False</td>\n",
              "      <td>False</td>\n",
              "      <td>False</td>\n",
              "      <td>Presenting Sharry Mann latest Punjabi Song  Cu...</td>\n",
              "    </tr>\n",
              "    <tr>\n",
              "      <th>1</th>\n",
              "      <td>zUZ1z7FwLc8</td>\n",
              "      <td>17.14.11</td>\n",
              "      <td>पीरियड्स के समय, पेट पर पति करता ऐसा, देखकर दं...</td>\n",
              "      <td>HJ NEWS</td>\n",
              "      <td>25</td>\n",
              "      <td>2017-11-13T05:43:56.000Z</td>\n",
              "      <td>पीरियड्स के समय|\"पेट पर पति करता ऐसा\"|\"देखकर द...</td>\n",
              "      <td>590101</td>\n",
              "      <td>735</td>\n",
              "      <td>904</td>\n",
              "      <td>0</td>\n",
              "      <td>https://i.ytimg.com/vi/zUZ1z7FwLc8/default.jpg</td>\n",
              "      <td>True</td>\n",
              "      <td>False</td>\n",
              "      <td>False</td>\n",
              "      <td>पीरियड्स के समय, पेट पर पति करता ऐसा, देखकर दं...</td>\n",
              "    </tr>\n",
              "    <tr>\n",
              "      <th>2</th>\n",
              "      <td>10L1hZ9qa58</td>\n",
              "      <td>17.14.11</td>\n",
              "      <td>Stylish Star Allu Arjun @ ChaySam Wedding Rece...</td>\n",
              "      <td>TFPC</td>\n",
              "      <td>24</td>\n",
              "      <td>2017-11-12T15:48:08.000Z</td>\n",
              "      <td>Stylish Star Allu Arjun @ ChaySam Wedding Rece...</td>\n",
              "      <td>473988</td>\n",
              "      <td>2011</td>\n",
              "      <td>243</td>\n",
              "      <td>149</td>\n",
              "      <td>https://i.ytimg.com/vi/10L1hZ9qa58/default.jpg</td>\n",
              "      <td>False</td>\n",
              "      <td>False</td>\n",
              "      <td>False</td>\n",
              "      <td>Watch Stylish Star Allu Arjun @ ChaySam Weddin...</td>\n",
              "    </tr>\n",
              "    <tr>\n",
              "      <th>3</th>\n",
              "      <td>N1vE8iiEg64</td>\n",
              "      <td>17.14.11</td>\n",
              "      <td>Eruma Saani | Tamil vs English</td>\n",
              "      <td>Eruma Saani</td>\n",
              "      <td>23</td>\n",
              "      <td>2017-11-12T07:08:48.000Z</td>\n",
              "      <td>Eruma Saani|\"Tamil Comedy Videos\"|\"Films\"|\"Mov...</td>\n",
              "      <td>1242680</td>\n",
              "      <td>70353</td>\n",
              "      <td>1624</td>\n",
              "      <td>2684</td>\n",
              "      <td>https://i.ytimg.com/vi/N1vE8iiEg64/default.jpg</td>\n",
              "      <td>False</td>\n",
              "      <td>False</td>\n",
              "      <td>False</td>\n",
              "      <td>This video showcases the difference between pe...</td>\n",
              "    </tr>\n",
              "    <tr>\n",
              "      <th>4</th>\n",
              "      <td>kJzGH0PVQHQ</td>\n",
              "      <td>17.14.11</td>\n",
              "      <td>why Samantha became EMOTIONAL @ Samantha naga ...</td>\n",
              "      <td>Filmylooks</td>\n",
              "      <td>24</td>\n",
              "      <td>2017-11-13T01:14:16.000Z</td>\n",
              "      <td>Filmylooks|\"latest news\"|\"telugu movies\"|\"telu...</td>\n",
              "      <td>464015</td>\n",
              "      <td>492</td>\n",
              "      <td>293</td>\n",
              "      <td>66</td>\n",
              "      <td>https://i.ytimg.com/vi/kJzGH0PVQHQ/default.jpg</td>\n",
              "      <td>False</td>\n",
              "      <td>False</td>\n",
              "      <td>False</td>\n",
              "      <td>why Samantha became EMOTIONAL @ Samantha naga ...</td>\n",
              "    </tr>\n",
              "  </tbody>\n",
              "</table>\n",
              "</div>"
            ],
            "text/plain": [
              "      video_id  ...                                        description\n",
              "0  kzwfHumJyYc  ...  Presenting Sharry Mann latest Punjabi Song  Cu...\n",
              "1  zUZ1z7FwLc8  ...  पीरियड्स के समय, पेट पर पति करता ऐसा, देखकर दं...\n",
              "2  10L1hZ9qa58  ...  Watch Stylish Star Allu Arjun @ ChaySam Weddin...\n",
              "3  N1vE8iiEg64  ...  This video showcases the difference between pe...\n",
              "4  kJzGH0PVQHQ  ...  why Samantha became EMOTIONAL @ Samantha naga ...\n",
              "\n",
              "[5 rows x 16 columns]"
            ]
          },
          "metadata": {
            "tags": []
          },
          "execution_count": 38
        }
      ]
    },
    {
      "cell_type": "code",
      "metadata": {
        "id": "eQqYUVnNyeIY",
        "colab_type": "code",
        "outputId": "bdf67920-d035-45a2-8dd1-def6f5eeecf5",
        "colab": {
          "base_uri": "https://localhost:8080/",
          "height": 34
        }
      },
      "source": [
        "df.shape"
      ],
      "execution_count": 0,
      "outputs": [
        {
          "output_type": "execute_result",
          "data": {
            "text/plain": [
              "(37352, 16)"
            ]
          },
          "metadata": {
            "tags": []
          },
          "execution_count": 39
        }
      ]
    },
    {
      "cell_type": "code",
      "metadata": {
        "id": "fTA9HUfo6dNZ",
        "colab_type": "code",
        "outputId": "c9eac3ef-1264-4445-ebd8-99a745c5db25",
        "colab": {
          "base_uri": "https://localhost:8080/",
          "height": 105
        }
      },
      "source": [
        "df.keys()"
      ],
      "execution_count": 0,
      "outputs": [
        {
          "output_type": "execute_result",
          "data": {
            "text/plain": [
              "Index(['video_id', 'trending_date', 'title', 'channel_title', 'category_id',\n",
              "       'publish_time', 'tags', 'views', 'likes', 'dislikes', 'comment_count',\n",
              "       'thumbnail_link', 'comments_disabled', 'ratings_disabled',\n",
              "       'video_error_or_removed', 'description'],\n",
              "      dtype='object')"
            ]
          },
          "metadata": {
            "tags": []
          },
          "execution_count": 40
        }
      ]
    },
    {
      "cell_type": "code",
      "metadata": {
        "id": "MeHLJH-B6dNe",
        "colab_type": "code",
        "colab": {}
      },
      "source": [
        "newdf = df.iloc[:1000, [0, 2, 4, 6, 11]]"
      ],
      "execution_count": 0,
      "outputs": []
    },
    {
      "cell_type": "code",
      "metadata": {
        "id": "-e6gTTAA6dNh",
        "colab_type": "code",
        "outputId": "95baa1e7-687e-4ab3-cef6-344c01451b84",
        "colab": {
          "base_uri": "https://localhost:8080/",
          "height": 279
        }
      },
      "source": [
        "newdf.head()"
      ],
      "execution_count": 0,
      "outputs": [
        {
          "output_type": "execute_result",
          "data": {
            "text/html": [
              "<div>\n",
              "<style scoped>\n",
              "    .dataframe tbody tr th:only-of-type {\n",
              "        vertical-align: middle;\n",
              "    }\n",
              "\n",
              "    .dataframe tbody tr th {\n",
              "        vertical-align: top;\n",
              "    }\n",
              "\n",
              "    .dataframe thead th {\n",
              "        text-align: right;\n",
              "    }\n",
              "</style>\n",
              "<table border=\"1\" class=\"dataframe\">\n",
              "  <thead>\n",
              "    <tr style=\"text-align: right;\">\n",
              "      <th></th>\n",
              "      <th>video_id</th>\n",
              "      <th>title</th>\n",
              "      <th>category_id</th>\n",
              "      <th>tags</th>\n",
              "      <th>thumbnail_link</th>\n",
              "    </tr>\n",
              "  </thead>\n",
              "  <tbody>\n",
              "    <tr>\n",
              "      <th>0</th>\n",
              "      <td>kzwfHumJyYc</td>\n",
              "      <td>Sharry Mann: Cute Munda ( Song Teaser) | Parmi...</td>\n",
              "      <td>1</td>\n",
              "      <td>sharry mann|\"sharry mann new song\"|\"sharry man...</td>\n",
              "      <td>https://i.ytimg.com/vi/kzwfHumJyYc/default.jpg</td>\n",
              "    </tr>\n",
              "    <tr>\n",
              "      <th>1</th>\n",
              "      <td>zUZ1z7FwLc8</td>\n",
              "      <td>पीरियड्स के समय, पेट पर पति करता ऐसा, देखकर दं...</td>\n",
              "      <td>25</td>\n",
              "      <td>पीरियड्स के समय|\"पेट पर पति करता ऐसा\"|\"देखकर द...</td>\n",
              "      <td>https://i.ytimg.com/vi/zUZ1z7FwLc8/default.jpg</td>\n",
              "    </tr>\n",
              "    <tr>\n",
              "      <th>2</th>\n",
              "      <td>10L1hZ9qa58</td>\n",
              "      <td>Stylish Star Allu Arjun @ ChaySam Wedding Rece...</td>\n",
              "      <td>24</td>\n",
              "      <td>Stylish Star Allu Arjun @ ChaySam Wedding Rece...</td>\n",
              "      <td>https://i.ytimg.com/vi/10L1hZ9qa58/default.jpg</td>\n",
              "    </tr>\n",
              "    <tr>\n",
              "      <th>3</th>\n",
              "      <td>N1vE8iiEg64</td>\n",
              "      <td>Eruma Saani | Tamil vs English</td>\n",
              "      <td>23</td>\n",
              "      <td>Eruma Saani|\"Tamil Comedy Videos\"|\"Films\"|\"Mov...</td>\n",
              "      <td>https://i.ytimg.com/vi/N1vE8iiEg64/default.jpg</td>\n",
              "    </tr>\n",
              "    <tr>\n",
              "      <th>4</th>\n",
              "      <td>kJzGH0PVQHQ</td>\n",
              "      <td>why Samantha became EMOTIONAL @ Samantha naga ...</td>\n",
              "      <td>24</td>\n",
              "      <td>Filmylooks|\"latest news\"|\"telugu movies\"|\"telu...</td>\n",
              "      <td>https://i.ytimg.com/vi/kJzGH0PVQHQ/default.jpg</td>\n",
              "    </tr>\n",
              "  </tbody>\n",
              "</table>\n",
              "</div>"
            ],
            "text/plain": [
              "      video_id  ...                                  thumbnail_link\n",
              "0  kzwfHumJyYc  ...  https://i.ytimg.com/vi/kzwfHumJyYc/default.jpg\n",
              "1  zUZ1z7FwLc8  ...  https://i.ytimg.com/vi/zUZ1z7FwLc8/default.jpg\n",
              "2  10L1hZ9qa58  ...  https://i.ytimg.com/vi/10L1hZ9qa58/default.jpg\n",
              "3  N1vE8iiEg64  ...  https://i.ytimg.com/vi/N1vE8iiEg64/default.jpg\n",
              "4  kJzGH0PVQHQ  ...  https://i.ytimg.com/vi/kJzGH0PVQHQ/default.jpg\n",
              "\n",
              "[5 rows x 5 columns]"
            ]
          },
          "metadata": {
            "tags": []
          },
          "execution_count": 42
        }
      ]
    },
    {
      "cell_type": "code",
      "metadata": {
        "id": "bWEKw4JC6dNl",
        "colab_type": "code",
        "colab": {}
      },
      "source": [
        "tags = newdf.iloc[:, 3].values"
      ],
      "execution_count": 0,
      "outputs": []
    },
    {
      "cell_type": "code",
      "metadata": {
        "id": "R-Dyubvr6dNq",
        "colab_type": "code",
        "outputId": "7a1cefa7-390d-4d51-f1bf-6fc0ed70bf70",
        "colab": {
          "base_uri": "https://localhost:8080/",
          "height": 281
        }
      },
      "source": [
        "tags[0].replace('\"', '').split(\"|\")"
      ],
      "execution_count": 0,
      "outputs": [
        {
          "output_type": "execute_result",
          "data": {
            "text/plain": [
              "['sharry mann',\n",
              " 'sharry mann new song',\n",
              " 'sharry mann cute munda',\n",
              " 'sharry mann latest song',\n",
              " 'sharry mann punjabi song 2017',\n",
              " 'parmish verma',\n",
              " 'parmish verma new song',\n",
              " 'parmish verma sharry mann',\n",
              " 'parmish verma sharry mann new song',\n",
              " 'parmish verma cute munda',\n",
              " 'new punjabi song 2017',\n",
              " 'punjabi song 2017',\n",
              " 'parmish verma new song 2017',\n",
              " 'parmish verma latest song 2017',\n",
              " 'punjabi songs 2017']"
            ]
          },
          "metadata": {
            "tags": []
          },
          "execution_count": 44
        }
      ]
    },
    {
      "cell_type": "code",
      "metadata": {
        "id": "W2BlBow1czHa",
        "colab_type": "code",
        "colab": {}
      },
      "source": [
        "import re"
      ],
      "execution_count": 0,
      "outputs": []
    },
    {
      "cell_type": "code",
      "metadata": {
        "id": "XbN430m_ay6C",
        "colab_type": "code",
        "colab": {}
      },
      "source": [
        ""
      ],
      "execution_count": 0,
      "outputs": []
    },
    {
      "cell_type": "code",
      "metadata": {
        "id": "_oasu-2M6dNw",
        "colab_type": "code",
        "colab": {}
      },
      "source": [
        "ttags = []\n",
        "tagslist = []\n",
        "\n",
        "for i in tags:\n",
        "    t = i.replace('\"', '').split(\"|\")\n",
        "    ttags.append(t)\n",
        "    for j in t:\n",
        "        tagslist.append(j)\n",
        "        "
      ],
      "execution_count": 0,
      "outputs": []
    },
    {
      "cell_type": "code",
      "metadata": {
        "id": "lbZtFyLnjHCJ",
        "colab_type": "code",
        "colab": {}
      },
      "source": [
        "title_tags = []\n",
        "titles = newdf.iloc[:, 1]\n",
        "for i in titles:\n",
        "  t = re.sub(' \\d+|\\(|\\)|\\||\\-|\\[|\\]|&|,|!|\\/|\\.|\\?|\\:|\\'|\\*', '', i).split(' ')\n",
        "  title_tags.append(t)\n",
        "  for j in t:\n",
        "    tagslist.append(j)"
      ],
      "execution_count": 0,
      "outputs": []
    },
    {
      "cell_type": "code",
      "metadata": {
        "id": "uc56G3Ahiygb",
        "colab_type": "code",
        "outputId": "8e02dd01-744b-4563-be77-2e00d7931299",
        "colab": {
          "base_uri": "https://localhost:8080/",
          "height": 263
        }
      },
      "source": [
        "title_tags[0]"
      ],
      "execution_count": 0,
      "outputs": [
        {
          "output_type": "execute_result",
          "data": {
            "text/plain": [
              "['Sharry',\n",
              " 'Mann',\n",
              " 'Cute',\n",
              " 'Munda',\n",
              " '',\n",
              " 'Song',\n",
              " 'Teaser',\n",
              " '',\n",
              " 'Parmish',\n",
              " 'Verma',\n",
              " '',\n",
              " 'Releasing',\n",
              " 'on',\n",
              " 'November']"
            ]
          },
          "metadata": {
            "tags": []
          },
          "execution_count": 48
        }
      ]
    },
    {
      "cell_type": "code",
      "metadata": {
        "colab_type": "code",
        "id": "xDKAHdETjj9b",
        "colab": {}
      },
      "source": [
        "tagslist = np.array(tagslist)"
      ],
      "execution_count": 0,
      "outputs": []
    },
    {
      "cell_type": "code",
      "metadata": {
        "id": "wktR4y2-6dN6",
        "colab_type": "code",
        "outputId": "ee03c9a0-82dd-4278-e26e-f7494094573e",
        "colab": {
          "base_uri": "https://localhost:8080/",
          "height": 34
        }
      },
      "source": [
        "len(tagslist)"
      ],
      "execution_count": 0,
      "outputs": [
        {
          "output_type": "execute_result",
          "data": {
            "text/plain": [
              "29633"
            ]
          },
          "metadata": {
            "tags": []
          },
          "execution_count": 50
        }
      ]
    },
    {
      "cell_type": "code",
      "metadata": {
        "id": "Bl15QiYi6dN_",
        "colab_type": "code",
        "colab": {}
      },
      "source": [
        "uniquetags = np.unique(tagslist)"
      ],
      "execution_count": 0,
      "outputs": []
    },
    {
      "cell_type": "code",
      "metadata": {
        "id": "Nkf5Arce6dOC",
        "colab_type": "code",
        "outputId": "aee7140a-8137-4de7-faa8-b6ce40bb9f33",
        "colab": {
          "base_uri": "https://localhost:8080/",
          "height": 34
        }
      },
      "source": [
        "len(uniquetags)"
      ],
      "execution_count": 0,
      "outputs": [
        {
          "output_type": "execute_result",
          "data": {
            "text/plain": [
              "10514"
            ]
          },
          "metadata": {
            "tags": []
          },
          "execution_count": 52
        }
      ]
    },
    {
      "cell_type": "code",
      "metadata": {
        "id": "8mMT3fp96dOG",
        "colab_type": "code",
        "outputId": "233a6272-d2a7-4249-f8fc-8f40a650fb90",
        "colab": {
          "base_uri": "https://localhost:8080/",
          "height": 34
        }
      },
      "source": [
        "uniquetags[1]"
      ],
      "execution_count": 0,
      "outputs": [
        {
          "output_type": "execute_result",
          "data": {
            "text/plain": [
              "' 14.11.2017'"
            ]
          },
          "metadata": {
            "tags": []
          },
          "execution_count": 53
        }
      ]
    },
    {
      "cell_type": "code",
      "metadata": {
        "id": "spshNb9X6dOL",
        "colab_type": "code",
        "colab": {}
      },
      "source": [
        "uniquetagslist = list(uniquetags)\n",
        "aa = []\n",
        "bb = []\n",
        "\n",
        "for i in ttags:\n",
        "  temp = []\n",
        "  for k in i:\n",
        "    temp.append(uniquetagslist.index(k))\n",
        "  aa.append(temp)\n",
        "\n",
        "for i in title_tags:\n",
        "  temp = []\n",
        "  for k in i:\n",
        "    if uniquetagslist.index(k) != 0:\n",
        "      temp.append(uniquetagslist.index(k))\n",
        "  bb.append(temp)"
      ],
      "execution_count": 0,
      "outputs": []
    },
    {
      "cell_type": "code",
      "metadata": {
        "id": "wEcyL92_leJr",
        "colab_type": "code",
        "colab": {}
      },
      "source": [
        ""
      ],
      "execution_count": 0,
      "outputs": []
    },
    {
      "cell_type": "code",
      "metadata": {
        "id": "RaPdBXHX6dOR",
        "colab_type": "code",
        "colab": {}
      },
      "source": [
        "toupdate = np.array(aa)"
      ],
      "execution_count": 0,
      "outputs": []
    },
    {
      "cell_type": "code",
      "metadata": {
        "id": "_JqwaX0A6dOV",
        "colab_type": "code",
        "colab": {}
      },
      "source": [
        "newdf['tagsid'] = pd.DataFrame({'col':aa})"
      ],
      "execution_count": 0,
      "outputs": []
    },
    {
      "cell_type": "code",
      "metadata": {
        "id": "S0nUubcmBH43",
        "colab_type": "code",
        "outputId": "b9b96ec5-a56f-4b3e-cea0-2c2bd2db329b",
        "colab": {
          "base_uri": "https://localhost:8080/",
          "height": 783
        }
      },
      "source": [
        "newdf.head()"
      ],
      "execution_count": 0,
      "outputs": [
        {
          "output_type": "execute_result",
          "data": {
            "text/html": [
              "<div>\n",
              "<style scoped>\n",
              "    .dataframe tbody tr th:only-of-type {\n",
              "        vertical-align: middle;\n",
              "    }\n",
              "\n",
              "    .dataframe tbody tr th {\n",
              "        vertical-align: top;\n",
              "    }\n",
              "\n",
              "    .dataframe thead th {\n",
              "        text-align: right;\n",
              "    }\n",
              "</style>\n",
              "<table border=\"1\" class=\"dataframe\">\n",
              "  <thead>\n",
              "    <tr style=\"text-align: right;\">\n",
              "      <th></th>\n",
              "      <th>video_id</th>\n",
              "      <th>title</th>\n",
              "      <th>category_id</th>\n",
              "      <th>tags</th>\n",
              "      <th>thumbnail_link</th>\n",
              "      <th>tagsid</th>\n",
              "    </tr>\n",
              "  </thead>\n",
              "  <tbody>\n",
              "    <tr>\n",
              "      <th>0</th>\n",
              "      <td>kzwfHumJyYc</td>\n",
              "      <td>Sharry Mann: Cute Munda ( Song Teaser) | Parmi...</td>\n",
              "      <td>1</td>\n",
              "      <td>sharry mann|\"sharry mann new song\"|\"sharry man...</td>\n",
              "      <td>https://i.ytimg.com/vi/kzwfHumJyYc/default.jpg</td>\n",
              "      <td>[8140, 8143, 8141, 8142, 8145, 7538, 7541, 754...</td>\n",
              "    </tr>\n",
              "    <tr>\n",
              "      <th>1</th>\n",
              "      <td>zUZ1z7FwLc8</td>\n",
              "      <td>पीरियड्स के समय, पेट पर पति करता ऐसा, देखकर दं...</td>\n",
              "      <td>25</td>\n",
              "      <td>पीरियड्स के समय|\"पेट पर पति करता ऐसा\"|\"देखकर द...</td>\n",
              "      <td>https://i.ytimg.com/vi/zUZ1z7FwLc8/default.jpg</td>\n",
              "      <td>[9337, 9345, 9290, 6891, 8660, 7368, 5353, 557...</td>\n",
              "    </tr>\n",
              "    <tr>\n",
              "      <th>2</th>\n",
              "      <td>10L1hZ9qa58</td>\n",
              "      <td>Stylish Star Allu Arjun @ ChaySam Wedding Rece...</td>\n",
              "      <td>24</td>\n",
              "      <td>Stylish Star Allu Arjun @ ChaySam Wedding Rece...</td>\n",
              "      <td>https://i.ytimg.com/vi/10L1hZ9qa58/default.jpg</td>\n",
              "      <td>[3969, 3968, 947, 7256, 7992, 5433, 5432, 7245...</td>\n",
              "    </tr>\n",
              "    <tr>\n",
              "      <th>3</th>\n",
              "      <td>N1vE8iiEg64</td>\n",
              "      <td>Eruma Saani | Tamil vs English</td>\n",
              "      <td>23</td>\n",
              "      <td>Eruma Saani|\"Tamil Comedy Videos\"|\"Films\"|\"Mov...</td>\n",
              "      <td>https://i.ytimg.com/vi/N1vE8iiEg64/default.jpg</td>\n",
              "      <td>[1354, 4108, 1451, 2726, 1710, 3824, 1443, 136...</td>\n",
              "    </tr>\n",
              "    <tr>\n",
              "      <th>4</th>\n",
              "      <td>kJzGH0PVQHQ</td>\n",
              "      <td>why Samantha became EMOTIONAL @ Samantha naga ...</td>\n",
              "      <td>24</td>\n",
              "      <td>Filmylooks|\"latest news\"|\"telugu movies\"|\"telu...</td>\n",
              "      <td>https://i.ytimg.com/vi/kJzGH0PVQHQ/default.jpg</td>\n",
              "      <td>[1454, 6891, 8573, 8574, 4322, 8975, 8974, 799...</td>\n",
              "    </tr>\n",
              "  </tbody>\n",
              "</table>\n",
              "</div>"
            ],
            "text/plain": [
              "      video_id  ...                                             tagsid\n",
              "0  kzwfHumJyYc  ...  [8140, 8143, 8141, 8142, 8145, 7538, 7541, 754...\n",
              "1  zUZ1z7FwLc8  ...  [9337, 9345, 9290, 6891, 8660, 7368, 5353, 557...\n",
              "2  10L1hZ9qa58  ...  [3969, 3968, 947, 7256, 7992, 5433, 5432, 7245...\n",
              "3  N1vE8iiEg64  ...  [1354, 4108, 1451, 2726, 1710, 3824, 1443, 136...\n",
              "4  kJzGH0PVQHQ  ...  [1454, 6891, 8573, 8574, 4322, 8975, 8974, 799...\n",
              "\n",
              "[5 rows x 6 columns]"
            ]
          },
          "metadata": {
            "tags": []
          },
          "execution_count": 57
        }
      ]
    },
    {
      "cell_type": "code",
      "metadata": {
        "id": "Js1EMzyyBibc",
        "colab_type": "code",
        "colab": {}
      },
      "source": [
        "score = []\n",
        "for i in range(len(newdf.iloc[:, 5].values)):\n",
        "  # temp = newdf.iloc[:, 5].values[i].copy()\n",
        "  try:\n",
        "    temp = newdf.iloc[:, 5].values[i].copy()\n",
        "  except AttributeError:\n",
        "    # print(newdf.iloc[:, 5].values[i])\n",
        "    temp = []\n",
        "  temp.insert(0, newdf.iloc[:, 2].values[i])\n",
        "  temp = temp + bb[i]\n",
        "  score.append(temp)"
      ],
      "execution_count": 0,
      "outputs": []
    },
    {
      "cell_type": "code",
      "metadata": {
        "id": "dP_SJOmtmgS6",
        "colab_type": "code",
        "colab": {}
      },
      "source": [
        ""
      ],
      "execution_count": 0,
      "outputs": []
    },
    {
      "cell_type": "code",
      "metadata": {
        "id": "kTba43SFCU7I",
        "colab_type": "code",
        "outputId": "cf1fd7fc-5c0d-484c-cef9-035c78f6b636",
        "colab": {
          "base_uri": "https://localhost:8080/",
          "height": 783
        }
      },
      "source": [
        "newdf.head()"
      ],
      "execution_count": 0,
      "outputs": [
        {
          "output_type": "execute_result",
          "data": {
            "text/html": [
              "<div>\n",
              "<style scoped>\n",
              "    .dataframe tbody tr th:only-of-type {\n",
              "        vertical-align: middle;\n",
              "    }\n",
              "\n",
              "    .dataframe tbody tr th {\n",
              "        vertical-align: top;\n",
              "    }\n",
              "\n",
              "    .dataframe thead th {\n",
              "        text-align: right;\n",
              "    }\n",
              "</style>\n",
              "<table border=\"1\" class=\"dataframe\">\n",
              "  <thead>\n",
              "    <tr style=\"text-align: right;\">\n",
              "      <th></th>\n",
              "      <th>video_id</th>\n",
              "      <th>title</th>\n",
              "      <th>category_id</th>\n",
              "      <th>tags</th>\n",
              "      <th>thumbnail_link</th>\n",
              "      <th>tagsid</th>\n",
              "    </tr>\n",
              "  </thead>\n",
              "  <tbody>\n",
              "    <tr>\n",
              "      <th>0</th>\n",
              "      <td>kzwfHumJyYc</td>\n",
              "      <td>Sharry Mann: Cute Munda ( Song Teaser) | Parmi...</td>\n",
              "      <td>1</td>\n",
              "      <td>sharry mann|\"sharry mann new song\"|\"sharry man...</td>\n",
              "      <td>https://i.ytimg.com/vi/kzwfHumJyYc/default.jpg</td>\n",
              "      <td>[8140, 8143, 8141, 8142, 8145, 7538, 7541, 754...</td>\n",
              "    </tr>\n",
              "    <tr>\n",
              "      <th>1</th>\n",
              "      <td>zUZ1z7FwLc8</td>\n",
              "      <td>पीरियड्स के समय, पेट पर पति करता ऐसा, देखकर दं...</td>\n",
              "      <td>25</td>\n",
              "      <td>पीरियड्स के समय|\"पेट पर पति करता ऐसा\"|\"देखकर द...</td>\n",
              "      <td>https://i.ytimg.com/vi/zUZ1z7FwLc8/default.jpg</td>\n",
              "      <td>[9337, 9345, 9290, 6891, 8660, 7368, 5353, 557...</td>\n",
              "    </tr>\n",
              "    <tr>\n",
              "      <th>2</th>\n",
              "      <td>10L1hZ9qa58</td>\n",
              "      <td>Stylish Star Allu Arjun @ ChaySam Wedding Rece...</td>\n",
              "      <td>24</td>\n",
              "      <td>Stylish Star Allu Arjun @ ChaySam Wedding Rece...</td>\n",
              "      <td>https://i.ytimg.com/vi/10L1hZ9qa58/default.jpg</td>\n",
              "      <td>[3969, 3968, 947, 7256, 7992, 5433, 5432, 7245...</td>\n",
              "    </tr>\n",
              "    <tr>\n",
              "      <th>3</th>\n",
              "      <td>N1vE8iiEg64</td>\n",
              "      <td>Eruma Saani | Tamil vs English</td>\n",
              "      <td>23</td>\n",
              "      <td>Eruma Saani|\"Tamil Comedy Videos\"|\"Films\"|\"Mov...</td>\n",
              "      <td>https://i.ytimg.com/vi/N1vE8iiEg64/default.jpg</td>\n",
              "      <td>[1354, 4108, 1451, 2726, 1710, 3824, 1443, 136...</td>\n",
              "    </tr>\n",
              "    <tr>\n",
              "      <th>4</th>\n",
              "      <td>kJzGH0PVQHQ</td>\n",
              "      <td>why Samantha became EMOTIONAL @ Samantha naga ...</td>\n",
              "      <td>24</td>\n",
              "      <td>Filmylooks|\"latest news\"|\"telugu movies\"|\"telu...</td>\n",
              "      <td>https://i.ytimg.com/vi/kJzGH0PVQHQ/default.jpg</td>\n",
              "      <td>[1454, 6891, 8573, 8574, 4322, 8975, 8974, 799...</td>\n",
              "    </tr>\n",
              "  </tbody>\n",
              "</table>\n",
              "</div>"
            ],
            "text/plain": [
              "      video_id  ...                                             tagsid\n",
              "0  kzwfHumJyYc  ...  [8140, 8143, 8141, 8142, 8145, 7538, 7541, 754...\n",
              "1  zUZ1z7FwLc8  ...  [9337, 9345, 9290, 6891, 8660, 7368, 5353, 557...\n",
              "2  10L1hZ9qa58  ...  [3969, 3968, 947, 7256, 7992, 5433, 5432, 7245...\n",
              "3  N1vE8iiEg64  ...  [1354, 4108, 1451, 2726, 1710, 3824, 1443, 136...\n",
              "4  kJzGH0PVQHQ  ...  [1454, 6891, 8573, 8574, 4322, 8975, 8974, 799...\n",
              "\n",
              "[5 rows x 6 columns]"
            ]
          },
          "metadata": {
            "tags": []
          },
          "execution_count": 59
        }
      ]
    },
    {
      "cell_type": "code",
      "metadata": {
        "id": "8jjp9_vlGg-k",
        "colab_type": "code",
        "colab": {}
      },
      "source": [
        "newdf['score'] = pd.DataFrame({'col':score})"
      ],
      "execution_count": 0,
      "outputs": []
    },
    {
      "cell_type": "code",
      "metadata": {
        "id": "wc8pMw9ZGkFG",
        "colab_type": "code",
        "outputId": "7885d973-7b39-47c6-a907-aca0b147ae5f",
        "colab": {
          "base_uri": "https://localhost:8080/",
          "height": 783
        }
      },
      "source": [
        "newdf.head()"
      ],
      "execution_count": 0,
      "outputs": [
        {
          "output_type": "execute_result",
          "data": {
            "text/html": [
              "<div>\n",
              "<style scoped>\n",
              "    .dataframe tbody tr th:only-of-type {\n",
              "        vertical-align: middle;\n",
              "    }\n",
              "\n",
              "    .dataframe tbody tr th {\n",
              "        vertical-align: top;\n",
              "    }\n",
              "\n",
              "    .dataframe thead th {\n",
              "        text-align: right;\n",
              "    }\n",
              "</style>\n",
              "<table border=\"1\" class=\"dataframe\">\n",
              "  <thead>\n",
              "    <tr style=\"text-align: right;\">\n",
              "      <th></th>\n",
              "      <th>video_id</th>\n",
              "      <th>title</th>\n",
              "      <th>category_id</th>\n",
              "      <th>tags</th>\n",
              "      <th>thumbnail_link</th>\n",
              "      <th>tagsid</th>\n",
              "      <th>score</th>\n",
              "    </tr>\n",
              "  </thead>\n",
              "  <tbody>\n",
              "    <tr>\n",
              "      <th>0</th>\n",
              "      <td>kzwfHumJyYc</td>\n",
              "      <td>Sharry Mann: Cute Munda ( Song Teaser) | Parmi...</td>\n",
              "      <td>1</td>\n",
              "      <td>sharry mann|\"sharry mann new song\"|\"sharry man...</td>\n",
              "      <td>https://i.ytimg.com/vi/kzwfHumJyYc/default.jpg</td>\n",
              "      <td>[8140, 8143, 8141, 8142, 8145, 7538, 7541, 754...</td>\n",
              "      <td>[1, 8140, 8143, 8141, 8142, 8145, 7538, 7541, ...</td>\n",
              "    </tr>\n",
              "    <tr>\n",
              "      <th>1</th>\n",
              "      <td>zUZ1z7FwLc8</td>\n",
              "      <td>पीरियड्स के समय, पेट पर पति करता ऐसा, देखकर दं...</td>\n",
              "      <td>25</td>\n",
              "      <td>पीरियड्स के समय|\"पेट पर पति करता ऐसा\"|\"देखकर द...</td>\n",
              "      <td>https://i.ytimg.com/vi/zUZ1z7FwLc8/default.jpg</td>\n",
              "      <td>[9337, 9345, 9290, 6891, 8660, 7368, 5353, 557...</td>\n",
              "      <td>[25, 9337, 9345, 9290, 6891, 8660, 7368, 5353,...</td>\n",
              "    </tr>\n",
              "    <tr>\n",
              "      <th>2</th>\n",
              "      <td>10L1hZ9qa58</td>\n",
              "      <td>Stylish Star Allu Arjun @ ChaySam Wedding Rece...</td>\n",
              "      <td>24</td>\n",
              "      <td>Stylish Star Allu Arjun @ ChaySam Wedding Rece...</td>\n",
              "      <td>https://i.ytimg.com/vi/10L1hZ9qa58/default.jpg</td>\n",
              "      <td>[3969, 3968, 947, 7256, 7992, 5433, 5432, 7245...</td>\n",
              "      <td>[24, 3969, 3968, 947, 7256, 7992, 5433, 5432, ...</td>\n",
              "    </tr>\n",
              "    <tr>\n",
              "      <th>3</th>\n",
              "      <td>N1vE8iiEg64</td>\n",
              "      <td>Eruma Saani | Tamil vs English</td>\n",
              "      <td>23</td>\n",
              "      <td>Eruma Saani|\"Tamil Comedy Videos\"|\"Films\"|\"Mov...</td>\n",
              "      <td>https://i.ytimg.com/vi/N1vE8iiEg64/default.jpg</td>\n",
              "      <td>[1354, 4108, 1451, 2726, 1710, 3824, 1443, 136...</td>\n",
              "      <td>[23, 1354, 4108, 1451, 2726, 1710, 3824, 1443,...</td>\n",
              "    </tr>\n",
              "    <tr>\n",
              "      <th>4</th>\n",
              "      <td>kJzGH0PVQHQ</td>\n",
              "      <td>why Samantha became EMOTIONAL @ Samantha naga ...</td>\n",
              "      <td>24</td>\n",
              "      <td>Filmylooks|\"latest news\"|\"telugu movies\"|\"telu...</td>\n",
              "      <td>https://i.ytimg.com/vi/kJzGH0PVQHQ/default.jpg</td>\n",
              "      <td>[1454, 6891, 8573, 8574, 4322, 8975, 8974, 799...</td>\n",
              "      <td>[24, 1454, 6891, 8573, 8574, 4322, 8975, 8974,...</td>\n",
              "    </tr>\n",
              "  </tbody>\n",
              "</table>\n",
              "</div>"
            ],
            "text/plain": [
              "      video_id  ...                                              score\n",
              "0  kzwfHumJyYc  ...  [1, 8140, 8143, 8141, 8142, 8145, 7538, 7541, ...\n",
              "1  zUZ1z7FwLc8  ...  [25, 9337, 9345, 9290, 6891, 8660, 7368, 5353,...\n",
              "2  10L1hZ9qa58  ...  [24, 3969, 3968, 947, 7256, 7992, 5433, 5432, ...\n",
              "3  N1vE8iiEg64  ...  [23, 1354, 4108, 1451, 2726, 1710, 3824, 1443,...\n",
              "4  kJzGH0PVQHQ  ...  [24, 1454, 6891, 8573, 8574, 4322, 8975, 8974,...\n",
              "\n",
              "[5 rows x 7 columns]"
            ]
          },
          "metadata": {
            "tags": []
          },
          "execution_count": 61
        }
      ]
    },
    {
      "cell_type": "code",
      "metadata": {
        "id": "m5nBFvP-Gl2z",
        "colab_type": "code",
        "outputId": "a97a133b-d11e-441f-d380-363d9a130d3f",
        "colab": {
          "base_uri": "https://localhost:8080/",
          "height": 313
        }
      },
      "source": [
        "newdf.iloc[:, [0, 1, 4, 6, 5]].head()"
      ],
      "execution_count": 0,
      "outputs": [
        {
          "output_type": "execute_result",
          "data": {
            "text/html": [
              "<div>\n",
              "<style scoped>\n",
              "    .dataframe tbody tr th:only-of-type {\n",
              "        vertical-align: middle;\n",
              "    }\n",
              "\n",
              "    .dataframe tbody tr th {\n",
              "        vertical-align: top;\n",
              "    }\n",
              "\n",
              "    .dataframe thead th {\n",
              "        text-align: right;\n",
              "    }\n",
              "</style>\n",
              "<table border=\"1\" class=\"dataframe\">\n",
              "  <thead>\n",
              "    <tr style=\"text-align: right;\">\n",
              "      <th></th>\n",
              "      <th>video_id</th>\n",
              "      <th>title</th>\n",
              "      <th>thumbnail_link</th>\n",
              "      <th>score</th>\n",
              "      <th>tagsid</th>\n",
              "    </tr>\n",
              "  </thead>\n",
              "  <tbody>\n",
              "    <tr>\n",
              "      <th>0</th>\n",
              "      <td>kzwfHumJyYc</td>\n",
              "      <td>Sharry Mann: Cute Munda ( Song Teaser) | Parmi...</td>\n",
              "      <td>https://i.ytimg.com/vi/kzwfHumJyYc/default.jpg</td>\n",
              "      <td>[1, 8140, 8143, 8141, 8142, 8145, 7538, 7541, ...</td>\n",
              "      <td>[8140, 8143, 8141, 8142, 8145, 7538, 7541, 754...</td>\n",
              "    </tr>\n",
              "    <tr>\n",
              "      <th>1</th>\n",
              "      <td>zUZ1z7FwLc8</td>\n",
              "      <td>पीरियड्स के समय, पेट पर पति करता ऐसा, देखकर दं...</td>\n",
              "      <td>https://i.ytimg.com/vi/zUZ1z7FwLc8/default.jpg</td>\n",
              "      <td>[25, 9337, 9345, 9290, 6891, 8660, 7368, 5353,...</td>\n",
              "      <td>[9337, 9345, 9290, 6891, 8660, 7368, 5353, 557...</td>\n",
              "    </tr>\n",
              "    <tr>\n",
              "      <th>2</th>\n",
              "      <td>10L1hZ9qa58</td>\n",
              "      <td>Stylish Star Allu Arjun @ ChaySam Wedding Rece...</td>\n",
              "      <td>https://i.ytimg.com/vi/10L1hZ9qa58/default.jpg</td>\n",
              "      <td>[24, 3969, 3968, 947, 7256, 7992, 5433, 5432, ...</td>\n",
              "      <td>[3969, 3968, 947, 7256, 7992, 5433, 5432, 7245...</td>\n",
              "    </tr>\n",
              "    <tr>\n",
              "      <th>3</th>\n",
              "      <td>N1vE8iiEg64</td>\n",
              "      <td>Eruma Saani | Tamil vs English</td>\n",
              "      <td>https://i.ytimg.com/vi/N1vE8iiEg64/default.jpg</td>\n",
              "      <td>[23, 1354, 4108, 1451, 2726, 1710, 3824, 1443,...</td>\n",
              "      <td>[1354, 4108, 1451, 2726, 1710, 3824, 1443, 136...</td>\n",
              "    </tr>\n",
              "    <tr>\n",
              "      <th>4</th>\n",
              "      <td>kJzGH0PVQHQ</td>\n",
              "      <td>why Samantha became EMOTIONAL @ Samantha naga ...</td>\n",
              "      <td>https://i.ytimg.com/vi/kJzGH0PVQHQ/default.jpg</td>\n",
              "      <td>[24, 1454, 6891, 8573, 8574, 4322, 8975, 8974,...</td>\n",
              "      <td>[1454, 6891, 8573, 8574, 4322, 8975, 8974, 799...</td>\n",
              "    </tr>\n",
              "  </tbody>\n",
              "</table>\n",
              "</div>"
            ],
            "text/plain": [
              "      video_id  ...                                             tagsid\n",
              "0  kzwfHumJyYc  ...  [8140, 8143, 8141, 8142, 8145, 7538, 7541, 754...\n",
              "1  zUZ1z7FwLc8  ...  [9337, 9345, 9290, 6891, 8660, 7368, 5353, 557...\n",
              "2  10L1hZ9qa58  ...  [3969, 3968, 947, 7256, 7992, 5433, 5432, 7245...\n",
              "3  N1vE8iiEg64  ...  [1354, 4108, 1451, 2726, 1710, 3824, 1443, 136...\n",
              "4  kJzGH0PVQHQ  ...  [1454, 6891, 8573, 8574, 4322, 8975, 8974, 799...\n",
              "\n",
              "[5 rows x 5 columns]"
            ]
          },
          "metadata": {
            "tags": []
          },
          "execution_count": 62
        }
      ]
    },
    {
      "cell_type": "code",
      "metadata": {
        "id": "vSTe0oRg-vBh",
        "colab_type": "code",
        "colab": {}
      },
      "source": [
        ""
      ],
      "execution_count": 0,
      "outputs": []
    },
    {
      "cell_type": "code",
      "metadata": {
        "id": "ZFQxPgAZG06i",
        "colab_type": "code",
        "colab": {}
      },
      "source": [
        "newdf1 = newdf.iloc[:, [0, 1, 4, 6, 5]]"
      ],
      "execution_count": 0,
      "outputs": []
    },
    {
      "cell_type": "code",
      "metadata": {
        "id": "GJNDctwwFKZp",
        "colab_type": "code",
        "colab": {}
      },
      "source": [
        "cat24 = []\n",
        "for i in newdf1.iloc[:, 3]:\n",
        "  if i[0] == 24:\n",
        "    cat24.append(i)"
      ],
      "execution_count": 0,
      "outputs": []
    },
    {
      "cell_type": "code",
      "metadata": {
        "id": "nWJEED2DFNhX",
        "colab_type": "code",
        "outputId": "46f2302c-a0f9-41fe-bb64-e8ebf146245a",
        "colab": {
          "base_uri": "https://localhost:8080/",
          "height": 34
        }
      },
      "source": [
        "len(cat24)"
      ],
      "execution_count": 0,
      "outputs": [
        {
          "output_type": "execute_result",
          "data": {
            "text/plain": [
              "421"
            ]
          },
          "metadata": {
            "tags": []
          },
          "execution_count": 65
        }
      ]
    },
    {
      "cell_type": "code",
      "metadata": {
        "id": "ppbzfU1gFdZo",
        "colab_type": "code",
        "colab": {}
      },
      "source": [
        "def jaccard_similarity(query, document):\n",
        "    intersection = set(query).intersection(set(document))\n",
        "    union = set(query).union(set(document))\n",
        "    return len(intersection)/len(union)"
      ],
      "execution_count": 0,
      "outputs": []
    },
    {
      "cell_type": "code",
      "metadata": {
        "id": "WihEJsqbFnSX",
        "colab_type": "code",
        "outputId": "eb6c9676-f95f-4326-fcb7-16bab80241f4",
        "colab": {
          "base_uri": "https://localhost:8080/",
          "height": 34
        }
      },
      "source": [
        "for i in cat24:\n",
        "  print(jaccard_similarity(cat24[0], i))\n",
        "  break"
      ],
      "execution_count": 0,
      "outputs": [
        {
          "output_type": "stream",
          "text": [
            "1.0\n"
          ],
          "name": "stdout"
        }
      ]
    },
    {
      "cell_type": "code",
      "metadata": {
        "id": "mi4bKCkjHGhP",
        "colab_type": "code",
        "outputId": "d2e8a334-ab66-4e5d-b99d-82984f77cc77",
        "colab": {
          "base_uri": "https://localhost:8080/",
          "height": 54
        }
      },
      "source": [
        "def recommend(id):\n",
        "  video_tags = []\n",
        "  lim = 10\n",
        "  v_limit = 0\n",
        "  if len(id) > lim:\n",
        "    v_limit =  lim\n",
        "  else:\n",
        "    v_limit = len(id)\n",
        "\n",
        "  for i in range(v_limit):\n",
        "    video_idx = list(newdf1.iloc[:, 0].values).index(id[i])\n",
        "    video_tags = video_tags + newdf1.iloc[video_idx][3]\n",
        "\n",
        "  similarity_vidoes_score = []\n",
        "  \n",
        "  for i in range(len(newdf1.iloc[:, 3])):\n",
        "    # if newdf1.iloc[:, 3].values[i][0] == video_tags[0] and newdf1.iloc[:, 0].values[i] != id:\n",
        "    if newdf1.iloc[:, 0].values[i] not in id:\n",
        "      similarity_dic = {\n",
        "          'vid' : newdf1.iloc[:, 0].values[i],\n",
        "          'similarity' : jaccard_similarity(video_tags, newdf1.iloc[:, 3].values[i])\n",
        "      }\n",
        "      similarity_vidoes_score.append(similarity_dic)\n",
        "  # print(similarity_vidoes_score)\n",
        "  print(sorted(similarity_vidoes_score, key = lambda i: i['similarity'], reverse=True)[:4])\n",
        "  # print(video_idx)\n",
        "\n",
        "\n",
        "  # print(all_same_cat_tags)\n",
        "\n",
        "recommend(['3Kwpk9J8tJM', 'BgYJmXbIVZo', '6I2yAoxBRtI', 'kJzGH0PVQHQ'])"
      ],
      "execution_count": 0,
      "outputs": [
        {
          "output_type": "stream",
          "text": [
            "[{'vid': 'vzo3Q9VSePM', 'similarity': 0.4270833333333333}, {'vid': 'Ji2s_4DFCIg', 'similarity': 0.4270833333333333}, {'vid': '#NAME?', 'similarity': 0.13761467889908258}, {'vid': 'urOa95MSbA8', 'similarity': 0.058823529411764705}]\n"
          ],
          "name": "stdout"
        }
      ]
    },
    {
      "cell_type": "code",
      "metadata": {
        "id": "Q5H-WmfkKQhK",
        "colab_type": "code",
        "outputId": "eb548415-6300-47ec-cdb6-879da194ffe2",
        "colab": {
          "base_uri": "https://localhost:8080/",
          "height": 54
        }
      },
      "source": [
        "recommend(['6I2yAoxBRtI'])"
      ],
      "execution_count": 0,
      "outputs": [
        {
          "output_type": "stream",
          "text": [
            "[{'vid': '4q8gvlRQh84', 'similarity': 0.06060606060606061}, {'vid': 'LyqEhGyeF5g', 'similarity': 0.044444444444444446}, {'vid': 'LyqEhGyeF5g', 'similarity': 0.044444444444444446}, {'vid': '8wRYvW8s7n0', 'similarity': 0.043478260869565216}]\n"
          ],
          "name": "stdout"
        }
      ]
    },
    {
      "cell_type": "code",
      "metadata": {
        "id": "L6K2C8jRRgZV",
        "colab_type": "code",
        "colab": {}
      },
      "source": [
        "newdf1.to_csv('dataset.csv', index=False)"
      ],
      "execution_count": 0,
      "outputs": []
    },
    {
      "cell_type": "code",
      "metadata": {
        "id": "yTGYoA_lYqXB",
        "colab_type": "code",
        "colab": {}
      },
      "source": [
        "  "
      ],
      "execution_count": 0,
      "outputs": []
    },
    {
      "cell_type": "code",
      "metadata": {
        "id": "qAKtVCK0ZMTH",
        "colab_type": "code",
        "colab": {}
      },
      "source": [
        "hdf1 = pd.read_csv('dataset.csv')"
      ],
      "execution_count": 0,
      "outputs": []
    },
    {
      "cell_type": "code",
      "metadata": {
        "id": "PatkoufI1kkv",
        "colab_type": "code",
        "outputId": "a23c9fbb-5feb-42e1-c6c6-2fa27be4b0fe",
        "colab": {
          "base_uri": "https://localhost:8080/",
          "height": 313
        }
      },
      "source": [
        "hdf1.head()"
      ],
      "execution_count": 0,
      "outputs": [
        {
          "output_type": "execute_result",
          "data": {
            "text/html": [
              "<div>\n",
              "<style scoped>\n",
              "    .dataframe tbody tr th:only-of-type {\n",
              "        vertical-align: middle;\n",
              "    }\n",
              "\n",
              "    .dataframe tbody tr th {\n",
              "        vertical-align: top;\n",
              "    }\n",
              "\n",
              "    .dataframe thead th {\n",
              "        text-align: right;\n",
              "    }\n",
              "</style>\n",
              "<table border=\"1\" class=\"dataframe\">\n",
              "  <thead>\n",
              "    <tr style=\"text-align: right;\">\n",
              "      <th></th>\n",
              "      <th>video_id</th>\n",
              "      <th>title</th>\n",
              "      <th>thumbnail_link</th>\n",
              "      <th>score</th>\n",
              "      <th>tagsid</th>\n",
              "    </tr>\n",
              "  </thead>\n",
              "  <tbody>\n",
              "    <tr>\n",
              "      <th>0</th>\n",
              "      <td>kzwfHumJyYc</td>\n",
              "      <td>Sharry Mann: Cute Munda ( Song Teaser) | Parmi...</td>\n",
              "      <td>https://i.ytimg.com/vi/kzwfHumJyYc/default.jpg</td>\n",
              "      <td>[1, 8140, 8143, 8141, 8142, 8145, 7538, 7541, ...</td>\n",
              "      <td>[8140, 8143, 8141, 8142, 8145, 7538, 7541, 754...</td>\n",
              "    </tr>\n",
              "    <tr>\n",
              "      <th>1</th>\n",
              "      <td>zUZ1z7FwLc8</td>\n",
              "      <td>पीरियड्स के समय, पेट पर पति करता ऐसा, देखकर दं...</td>\n",
              "      <td>https://i.ytimg.com/vi/zUZ1z7FwLc8/default.jpg</td>\n",
              "      <td>[25, 9337, 9345, 9290, 6891, 8660, 7368, 5353,...</td>\n",
              "      <td>[9337, 9345, 9290, 6891, 8660, 7368, 5353, 557...</td>\n",
              "    </tr>\n",
              "    <tr>\n",
              "      <th>2</th>\n",
              "      <td>10L1hZ9qa58</td>\n",
              "      <td>Stylish Star Allu Arjun @ ChaySam Wedding Rece...</td>\n",
              "      <td>https://i.ytimg.com/vi/10L1hZ9qa58/default.jpg</td>\n",
              "      <td>[24, 3969, 3968, 947, 7256, 7992, 5433, 5432, ...</td>\n",
              "      <td>[3969, 3968, 947, 7256, 7992, 5433, 5432, 7245...</td>\n",
              "    </tr>\n",
              "    <tr>\n",
              "      <th>3</th>\n",
              "      <td>N1vE8iiEg64</td>\n",
              "      <td>Eruma Saani | Tamil vs English</td>\n",
              "      <td>https://i.ytimg.com/vi/N1vE8iiEg64/default.jpg</td>\n",
              "      <td>[23, 1354, 4108, 1451, 2726, 1710, 3824, 1443,...</td>\n",
              "      <td>[1354, 4108, 1451, 2726, 1710, 3824, 1443, 136...</td>\n",
              "    </tr>\n",
              "    <tr>\n",
              "      <th>4</th>\n",
              "      <td>kJzGH0PVQHQ</td>\n",
              "      <td>why Samantha became EMOTIONAL @ Samantha naga ...</td>\n",
              "      <td>https://i.ytimg.com/vi/kJzGH0PVQHQ/default.jpg</td>\n",
              "      <td>[24, 1454, 6891, 8573, 8574, 4322, 8975, 8974,...</td>\n",
              "      <td>[1454, 6891, 8573, 8574, 4322, 8975, 8974, 799...</td>\n",
              "    </tr>\n",
              "  </tbody>\n",
              "</table>\n",
              "</div>"
            ],
            "text/plain": [
              "      video_id  ...                                             tagsid\n",
              "0  kzwfHumJyYc  ...  [8140, 8143, 8141, 8142, 8145, 7538, 7541, 754...\n",
              "1  zUZ1z7FwLc8  ...  [9337, 9345, 9290, 6891, 8660, 7368, 5353, 557...\n",
              "2  10L1hZ9qa58  ...  [3969, 3968, 947, 7256, 7992, 5433, 5432, 7245...\n",
              "3  N1vE8iiEg64  ...  [1354, 4108, 1451, 2726, 1710, 3824, 1443, 136...\n",
              "4  kJzGH0PVQHQ  ...  [1454, 6891, 8573, 8574, 4322, 8975, 8974, 799...\n",
              "\n",
              "[5 rows x 5 columns]"
            ]
          },
          "metadata": {
            "tags": []
          },
          "execution_count": 106
        }
      ]
    },
    {
      "cell_type": "code",
      "metadata": {
        "id": "CFra4dlWsO4x",
        "colab_type": "code",
        "colab": {}
      },
      "source": [
        "import json"
      ],
      "execution_count": 0,
      "outputs": []
    },
    {
      "cell_type": "code",
      "metadata": {
        "id": "UV4mjRmMsYDj",
        "colab_type": "code",
        "colab": {}
      },
      "source": [
        "for i in range(len(hdf1.iloc[:, 3].values)):\n",
        "  hdf1.iloc[:, 3].values[i] = json.loads(hdf1.iloc[:, 3].values[i])"
      ],
      "execution_count": 0,
      "outputs": []
    },
    {
      "cell_type": "code",
      "metadata": {
        "id": "udRw-ty2uAzZ",
        "colab_type": "code",
        "colab": {}
      },
      "source": [
        "for i in range(len(hdf1.iloc[:, 4].values)):\n",
        "  hdf1.iloc[:, 4].values[i] = json.loads(hdf1.iloc[:, 4].values[i])"
      ],
      "execution_count": 0,
      "outputs": []
    },
    {
      "cell_type": "code",
      "metadata": {
        "id": "wLQ5Zyz6uAe9",
        "colab_type": "code",
        "colab": {}
      },
      "source": [
        ""
      ],
      "execution_count": 0,
      "outputs": []
    },
    {
      "cell_type": "code",
      "metadata": {
        "id": "C58Rzws0lTMO",
        "colab_type": "code",
        "outputId": "cc04a039-f3f9-4546-99e3-099241a3796e",
        "colab": {
          "base_uri": "https://localhost:8080/",
          "height": 54
        }
      },
      "source": [
        "def recommend(id):\n",
        "  video_tags = []\n",
        "  lim = 10\n",
        "  v_limit = 0\n",
        "  if len(id) > lim:\n",
        "    v_limit =  lim\n",
        "  else:\n",
        "    v_limit = len(id)\n",
        "\n",
        "  for i in range(v_limit):\n",
        "    video_idx = list(hdf1.iloc[:, 0].values).index(id[i])\n",
        "    video_tags = video_tags + hdf1.iloc[video_idx][3]\n",
        "\n",
        "  similarity_vidoes_score = []\n",
        "  \n",
        "  for i in range(len(hdf1.iloc[:, 3])):\n",
        "    # if newdf1.iloc[:, 3].values[i][0] == video_tags[0] and newdf1.iloc[:, 0].values[i] != id:\n",
        "    if hdf1.iloc[:, 0].values[i] not in id:\n",
        "      similarity_dic = {\n",
        "          'vid' : hdf1.iloc[:, 0].values[i],\n",
        "          'similarity' : jaccard_similarity(video_tags, hdf1.iloc[:, 3].values[i])\n",
        "      }\n",
        "      similarity_vidoes_score.append(similarity_dic)\n",
        "  # print(similarity_vidoes_score)\n",
        "  print(sorted(similarity_vidoes_score, key = lambda i: i['similarity'], reverse=True)[:4])\n",
        "  # print(video_idx)\n",
        "\n",
        "\n",
        "  # print(all_same_cat_tags)\n",
        "\n",
        "recommend(['3Kwpk9J8tJM', 'BgYJmXbIVZo', '6I2yAoxBRtI', 'kJzGH0PVQHQ'])"
      ],
      "execution_count": 0,
      "outputs": [
        {
          "output_type": "stream",
          "text": [
            "[{'vid': 'vzo3Q9VSePM', 'similarity': 0.4270833333333333}, {'vid': 'Ji2s_4DFCIg', 'similarity': 0.4270833333333333}, {'vid': '#NAME?', 'similarity': 0.13761467889908258}, {'vid': 'urOa95MSbA8', 'similarity': 0.058823529411764705}]\n"
          ],
          "name": "stdout"
        }
      ]
    },
    {
      "cell_type": "code",
      "metadata": {
        "id": "iFNT-AnvoeYq",
        "colab_type": "code",
        "colab": {}
      },
      "source": [
        ""
      ],
      "execution_count": 0,
      "outputs": []
    }
  ]
}